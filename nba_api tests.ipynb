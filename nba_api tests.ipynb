{
 "cells": [
  {
   "cell_type": "code",
   "execution_count": 1,
   "id": "bf07c445-e5a3-4d38-bb41-ecd37e253aa9",
   "metadata": {
    "tags": []
   },
   "outputs": [],
   "source": [
    "import nba_api"
   ]
  },
  {
   "cell_type": "code",
   "execution_count": 4,
   "id": "5bfa599b-89a4-40ef-ad7f-13b2a463fc39",
   "metadata": {
    "tags": []
   },
   "outputs": [],
   "source": [
    "from nba_api.stats.static import players\n",
    "player_dict = players.get_players()"
   ]
  },
  {
   "cell_type": "code",
   "execution_count": 6,
   "id": "0e31331a-50be-4805-a51d-67b01a79bd74",
   "metadata": {
    "tags": []
   },
   "outputs": [],
   "source": [
    "bron = [player for player in player_dict if player['full_name'] == 'LeBron James'][0]"
   ]
  },
  {
   "cell_type": "code",
   "execution_count": 8,
   "id": "37c812b8-6cc1-49a8-a6d8-0b731cfb861b",
   "metadata": {
    "tags": []
   },
   "outputs": [],
   "source": [
    "bron_id = bron['id']"
   ]
  },
  {
   "cell_type": "code",
   "execution_count": 17,
   "id": "5d607e55-28fa-4f67-b487-7dbbd23a4f67",
   "metadata": {
    "tags": []
   },
   "outputs": [],
   "source": [
    "from nba_api.stats.static import teams"
   ]
  },
  {
   "cell_type": "code",
   "execution_count": 18,
   "id": "e7f28af6-e6c0-49dc-88ab-5936990673cc",
   "metadata": {
    "tags": []
   },
   "outputs": [
    {
     "data": {
      "text/plain": [
       "<module 'nba_api.stats.static.teams' from '/Users/Mateo/.local/lib/python3.11/site-packages/nba_api/stats/static/teams.py'>"
      ]
     },
     "execution_count": 18,
     "metadata": {},
     "output_type": "execute_result"
    }
   ],
   "source": [
    "teams"
   ]
  },
  {
   "cell_type": "code",
   "execution_count": 19,
   "id": "7243149b-be57-42d8-88d9-910a54ebcb27",
   "metadata": {
    "tags": []
   },
   "outputs": [],
   "source": [
    "teams = teams.get_teams()"
   ]
  },
  {
   "cell_type": "code",
   "execution_count": 20,
   "id": "6e4932af-123f-445a-83f5-25e908fa6df5",
   "metadata": {
    "tags": []
   },
   "outputs": [
    {
     "data": {
      "text/plain": [
       "[{'id': 1610612737,\n",
       "  'full_name': 'Atlanta Hawks',\n",
       "  'abbreviation': 'ATL',\n",
       "  'nickname': 'Hawks',\n",
       "  'city': 'Atlanta',\n",
       "  'state': 'Georgia',\n",
       "  'year_founded': 1949},\n",
       " {'id': 1610612738,\n",
       "  'full_name': 'Boston Celtics',\n",
       "  'abbreviation': 'BOS',\n",
       "  'nickname': 'Celtics',\n",
       "  'city': 'Boston',\n",
       "  'state': 'Massachusetts',\n",
       "  'year_founded': 1946},\n",
       " {'id': 1610612739,\n",
       "  'full_name': 'Cleveland Cavaliers',\n",
       "  'abbreviation': 'CLE',\n",
       "  'nickname': 'Cavaliers',\n",
       "  'city': 'Cleveland',\n",
       "  'state': 'Ohio',\n",
       "  'year_founded': 1970},\n",
       " {'id': 1610612740,\n",
       "  'full_name': 'New Orleans Pelicans',\n",
       "  'abbreviation': 'NOP',\n",
       "  'nickname': 'Pelicans',\n",
       "  'city': 'New Orleans',\n",
       "  'state': 'Louisiana',\n",
       "  'year_founded': 2002},\n",
       " {'id': 1610612741,\n",
       "  'full_name': 'Chicago Bulls',\n",
       "  'abbreviation': 'CHI',\n",
       "  'nickname': 'Bulls',\n",
       "  'city': 'Chicago',\n",
       "  'state': 'Illinois',\n",
       "  'year_founded': 1966},\n",
       " {'id': 1610612742,\n",
       "  'full_name': 'Dallas Mavericks',\n",
       "  'abbreviation': 'DAL',\n",
       "  'nickname': 'Mavericks',\n",
       "  'city': 'Dallas',\n",
       "  'state': 'Texas',\n",
       "  'year_founded': 1980},\n",
       " {'id': 1610612743,\n",
       "  'full_name': 'Denver Nuggets',\n",
       "  'abbreviation': 'DEN',\n",
       "  'nickname': 'Nuggets',\n",
       "  'city': 'Denver',\n",
       "  'state': 'Colorado',\n",
       "  'year_founded': 1976},\n",
       " {'id': 1610612744,\n",
       "  'full_name': 'Golden State Warriors',\n",
       "  'abbreviation': 'GSW',\n",
       "  'nickname': 'Warriors',\n",
       "  'city': 'Golden State',\n",
       "  'state': 'California',\n",
       "  'year_founded': 1946},\n",
       " {'id': 1610612745,\n",
       "  'full_name': 'Houston Rockets',\n",
       "  'abbreviation': 'HOU',\n",
       "  'nickname': 'Rockets',\n",
       "  'city': 'Houston',\n",
       "  'state': 'Texas',\n",
       "  'year_founded': 1967},\n",
       " {'id': 1610612746,\n",
       "  'full_name': 'Los Angeles Clippers',\n",
       "  'abbreviation': 'LAC',\n",
       "  'nickname': 'Clippers',\n",
       "  'city': 'Los Angeles',\n",
       "  'state': 'California',\n",
       "  'year_founded': 1970},\n",
       " {'id': 1610612747,\n",
       "  'full_name': 'Los Angeles Lakers',\n",
       "  'abbreviation': 'LAL',\n",
       "  'nickname': 'Lakers',\n",
       "  'city': 'Los Angeles',\n",
       "  'state': 'California',\n",
       "  'year_founded': 1948},\n",
       " {'id': 1610612748,\n",
       "  'full_name': 'Miami Heat',\n",
       "  'abbreviation': 'MIA',\n",
       "  'nickname': 'Heat',\n",
       "  'city': 'Miami',\n",
       "  'state': 'Florida',\n",
       "  'year_founded': 1988},\n",
       " {'id': 1610612749,\n",
       "  'full_name': 'Milwaukee Bucks',\n",
       "  'abbreviation': 'MIL',\n",
       "  'nickname': 'Bucks',\n",
       "  'city': 'Milwaukee',\n",
       "  'state': 'Wisconsin',\n",
       "  'year_founded': 1968},\n",
       " {'id': 1610612750,\n",
       "  'full_name': 'Minnesota Timberwolves',\n",
       "  'abbreviation': 'MIN',\n",
       "  'nickname': 'Timberwolves',\n",
       "  'city': 'Minnesota',\n",
       "  'state': 'Minnesota',\n",
       "  'year_founded': 1989},\n",
       " {'id': 1610612751,\n",
       "  'full_name': 'Brooklyn Nets',\n",
       "  'abbreviation': 'BKN',\n",
       "  'nickname': 'Nets',\n",
       "  'city': 'Brooklyn',\n",
       "  'state': 'New York',\n",
       "  'year_founded': 1976},\n",
       " {'id': 1610612752,\n",
       "  'full_name': 'New York Knicks',\n",
       "  'abbreviation': 'NYK',\n",
       "  'nickname': 'Knicks',\n",
       "  'city': 'New York',\n",
       "  'state': 'New York',\n",
       "  'year_founded': 1946},\n",
       " {'id': 1610612753,\n",
       "  'full_name': 'Orlando Magic',\n",
       "  'abbreviation': 'ORL',\n",
       "  'nickname': 'Magic',\n",
       "  'city': 'Orlando',\n",
       "  'state': 'Florida',\n",
       "  'year_founded': 1989},\n",
       " {'id': 1610612754,\n",
       "  'full_name': 'Indiana Pacers',\n",
       "  'abbreviation': 'IND',\n",
       "  'nickname': 'Pacers',\n",
       "  'city': 'Indiana',\n",
       "  'state': 'Indiana',\n",
       "  'year_founded': 1976},\n",
       " {'id': 1610612755,\n",
       "  'full_name': 'Philadelphia 76ers',\n",
       "  'abbreviation': 'PHI',\n",
       "  'nickname': '76ers',\n",
       "  'city': 'Philadelphia',\n",
       "  'state': 'Pennsylvania',\n",
       "  'year_founded': 1949},\n",
       " {'id': 1610612756,\n",
       "  'full_name': 'Phoenix Suns',\n",
       "  'abbreviation': 'PHX',\n",
       "  'nickname': 'Suns',\n",
       "  'city': 'Phoenix',\n",
       "  'state': 'Arizona',\n",
       "  'year_founded': 1968},\n",
       " {'id': 1610612757,\n",
       "  'full_name': 'Portland Trail Blazers',\n",
       "  'abbreviation': 'POR',\n",
       "  'nickname': 'Trail Blazers',\n",
       "  'city': 'Portland',\n",
       "  'state': 'Oregon',\n",
       "  'year_founded': 1970},\n",
       " {'id': 1610612758,\n",
       "  'full_name': 'Sacramento Kings',\n",
       "  'abbreviation': 'SAC',\n",
       "  'nickname': 'Kings',\n",
       "  'city': 'Sacramento',\n",
       "  'state': 'California',\n",
       "  'year_founded': 1948},\n",
       " {'id': 1610612759,\n",
       "  'full_name': 'San Antonio Spurs',\n",
       "  'abbreviation': 'SAS',\n",
       "  'nickname': 'Spurs',\n",
       "  'city': 'San Antonio',\n",
       "  'state': 'Texas',\n",
       "  'year_founded': 1976},\n",
       " {'id': 1610612760,\n",
       "  'full_name': 'Oklahoma City Thunder',\n",
       "  'abbreviation': 'OKC',\n",
       "  'nickname': 'Thunder',\n",
       "  'city': 'Oklahoma City',\n",
       "  'state': 'Oklahoma',\n",
       "  'year_founded': 1967},\n",
       " {'id': 1610612761,\n",
       "  'full_name': 'Toronto Raptors',\n",
       "  'abbreviation': 'TOR',\n",
       "  'nickname': 'Raptors',\n",
       "  'city': 'Toronto',\n",
       "  'state': 'Ontario',\n",
       "  'year_founded': 1995},\n",
       " {'id': 1610612762,\n",
       "  'full_name': 'Utah Jazz',\n",
       "  'abbreviation': 'UTA',\n",
       "  'nickname': 'Jazz',\n",
       "  'city': 'Utah',\n",
       "  'state': 'Utah',\n",
       "  'year_founded': 1974},\n",
       " {'id': 1610612763,\n",
       "  'full_name': 'Memphis Grizzlies',\n",
       "  'abbreviation': 'MEM',\n",
       "  'nickname': 'Grizzlies',\n",
       "  'city': 'Memphis',\n",
       "  'state': 'Tennessee',\n",
       "  'year_founded': 1995},\n",
       " {'id': 1610612764,\n",
       "  'full_name': 'Washington Wizards',\n",
       "  'abbreviation': 'WAS',\n",
       "  'nickname': 'Wizards',\n",
       "  'city': 'Washington',\n",
       "  'state': 'District of Columbia',\n",
       "  'year_founded': 1961},\n",
       " {'id': 1610612765,\n",
       "  'full_name': 'Detroit Pistons',\n",
       "  'abbreviation': 'DET',\n",
       "  'nickname': 'Pistons',\n",
       "  'city': 'Detroit',\n",
       "  'state': 'Michigan',\n",
       "  'year_founded': 1948},\n",
       " {'id': 1610612766,\n",
       "  'full_name': 'Charlotte Hornets',\n",
       "  'abbreviation': 'CHA',\n",
       "  'nickname': 'Hornets',\n",
       "  'city': 'Charlotte',\n",
       "  'state': 'North Carolina',\n",
       "  'year_founded': 1988}]"
      ]
     },
     "execution_count": 20,
     "metadata": {},
     "output_type": "execute_result"
    }
   ],
   "source": [
    "teams"
   ]
  },
  {
   "cell_type": "code",
   "execution_count": 53,
   "id": "dd81dad0-0072-4802-aeb5-319e84261306",
   "metadata": {
    "tags": []
   },
   "outputs": [
    {
     "data": {
      "text/plain": [
       "{'id': 1610612744,\n",
       " 'full_name': 'Golden State Warriors',\n",
       " 'abbreviation': 'GSW',\n",
       " 'nickname': 'Warriors',\n",
       " 'city': 'Golden State',\n",
       " 'state': 'California',\n",
       " 'year_founded': 1946}"
      ]
     },
     "execution_count": 53,
     "metadata": {},
     "output_type": "execute_result"
    }
   ],
   "source": [
    "# using for loop\n",
    "for x in teams:\n",
    "    if x['full_name'] == 'Golden State Warriors':\n",
    "        GSW = x\n",
    "GSW"
   ]
  },
  {
   "cell_type": "code",
   "execution_count": 54,
   "id": "3670d9ea-46cd-4b4a-bd1a-8333fe60f1b6",
   "metadata": {
    "tags": []
   },
   "outputs": [
    {
     "data": {
      "text/plain": [
       "{'id': 1610612744,\n",
       " 'full_name': 'Golden State Warriors',\n",
       " 'abbreviation': 'GSW',\n",
       " 'nickname': 'Warriors',\n",
       " 'city': 'Golden State',\n",
       " 'state': 'California',\n",
       " 'year_founded': 1946}"
      ]
     },
     "execution_count": 54,
     "metadata": {},
     "output_type": "execute_result"
    }
   ],
   "source": [
    "# using list comprehension\n",
    "GSW = [x for x in teams if x['full_name'] == 'Golden State Warriors'][0]\n",
    "GSW"
   ]
  },
  {
   "cell_type": "code",
   "execution_count": 57,
   "id": "532e2118-447b-4e20-9985-71a733d2c170",
   "metadata": {
    "tags": []
   },
   "outputs": [
    {
     "data": {
      "text/plain": [
       "<nba_api.stats.endpoints.playergamelog.PlayerGameLog at 0x106e72590>"
      ]
     },
     "execution_count": 57,
     "metadata": {},
     "output_type": "execute_result"
    }
   ],
   "source": [
    "from nba_api.stats.endpoints import playergamelog\n",
    "import pandas as pd \n",
    "\n",
    "#Call the API endpoint passing in lebron's ID & which season \n",
    "gamelog_bron = playergamelog.PlayerGameLog(player_id='2544', season = '2018')\n",
    "gamelog_bron"
   ]
  },
  {
   "cell_type": "code",
   "execution_count": 66,
   "id": "3fab032d-e442-4d14-a30d-1c6dde9ef7bd",
   "metadata": {
    "tags": []
   },
   "outputs": [
    {
     "data": {
      "text/html": [
       "<div>\n",
       "<style scoped>\n",
       "    .dataframe tbody tr th:only-of-type {\n",
       "        vertical-align: middle;\n",
       "    }\n",
       "\n",
       "    .dataframe tbody tr th {\n",
       "        vertical-align: top;\n",
       "    }\n",
       "\n",
       "    .dataframe thead th {\n",
       "        text-align: right;\n",
       "    }\n",
       "</style>\n",
       "<table border=\"1\" class=\"dataframe\">\n",
       "  <thead>\n",
       "    <tr style=\"text-align: right;\">\n",
       "      <th></th>\n",
       "      <th>SEASON_ID</th>\n",
       "      <th>Player_ID</th>\n",
       "      <th>Game_ID</th>\n",
       "      <th>GAME_DATE</th>\n",
       "      <th>MATCHUP</th>\n",
       "      <th>WL</th>\n",
       "      <th>MIN</th>\n",
       "      <th>FGM</th>\n",
       "      <th>FGA</th>\n",
       "      <th>FG_PCT</th>\n",
       "      <th>...</th>\n",
       "      <th>DREB</th>\n",
       "      <th>REB</th>\n",
       "      <th>AST</th>\n",
       "      <th>STL</th>\n",
       "      <th>BLK</th>\n",
       "      <th>TOV</th>\n",
       "      <th>PF</th>\n",
       "      <th>PTS</th>\n",
       "      <th>PLUS_MINUS</th>\n",
       "      <th>VIDEO_AVAILABLE</th>\n",
       "    </tr>\n",
       "  </thead>\n",
       "  <tbody>\n",
       "    <tr>\n",
       "      <th>0</th>\n",
       "      <td>22018</td>\n",
       "      <td>2544</td>\n",
       "      <td>0021801135</td>\n",
       "      <td>MAR 29, 2019</td>\n",
       "      <td>LAL vs. CHA</td>\n",
       "      <td>W</td>\n",
       "      <td>32</td>\n",
       "      <td>11</td>\n",
       "      <td>19</td>\n",
       "      <td>0.579</td>\n",
       "      <td>...</td>\n",
       "      <td>3</td>\n",
       "      <td>3</td>\n",
       "      <td>9</td>\n",
       "      <td>0</td>\n",
       "      <td>0</td>\n",
       "      <td>6</td>\n",
       "      <td>1</td>\n",
       "      <td>27</td>\n",
       "      <td>14</td>\n",
       "      <td>1</td>\n",
       "    </tr>\n",
       "    <tr>\n",
       "      <th>1</th>\n",
       "      <td>22018</td>\n",
       "      <td>2544</td>\n",
       "      <td>0021801116</td>\n",
       "      <td>MAR 26, 2019</td>\n",
       "      <td>LAL vs. WAS</td>\n",
       "      <td>W</td>\n",
       "      <td>34</td>\n",
       "      <td>11</td>\n",
       "      <td>20</td>\n",
       "      <td>0.550</td>\n",
       "      <td>...</td>\n",
       "      <td>7</td>\n",
       "      <td>7</td>\n",
       "      <td>14</td>\n",
       "      <td>1</td>\n",
       "      <td>0</td>\n",
       "      <td>3</td>\n",
       "      <td>1</td>\n",
       "      <td>23</td>\n",
       "      <td>3</td>\n",
       "      <td>1</td>\n",
       "    </tr>\n",
       "    <tr>\n",
       "      <th>2</th>\n",
       "      <td>22018</td>\n",
       "      <td>2544</td>\n",
       "      <td>0021801102</td>\n",
       "      <td>MAR 24, 2019</td>\n",
       "      <td>LAL vs. SAC</td>\n",
       "      <td>W</td>\n",
       "      <td>35</td>\n",
       "      <td>9</td>\n",
       "      <td>22</td>\n",
       "      <td>0.409</td>\n",
       "      <td>...</td>\n",
       "      <td>9</td>\n",
       "      <td>11</td>\n",
       "      <td>11</td>\n",
       "      <td>2</td>\n",
       "      <td>1</td>\n",
       "      <td>4</td>\n",
       "      <td>1</td>\n",
       "      <td>29</td>\n",
       "      <td>5</td>\n",
       "      <td>1</td>\n",
       "    </tr>\n",
       "    <tr>\n",
       "      <th>3</th>\n",
       "      <td>22018</td>\n",
       "      <td>2544</td>\n",
       "      <td>0021801086</td>\n",
       "      <td>MAR 22, 2019</td>\n",
       "      <td>LAL vs. BKN</td>\n",
       "      <td>L</td>\n",
       "      <td>37</td>\n",
       "      <td>8</td>\n",
       "      <td>25</td>\n",
       "      <td>0.320</td>\n",
       "      <td>...</td>\n",
       "      <td>6</td>\n",
       "      <td>9</td>\n",
       "      <td>14</td>\n",
       "      <td>1</td>\n",
       "      <td>1</td>\n",
       "      <td>8</td>\n",
       "      <td>3</td>\n",
       "      <td>25</td>\n",
       "      <td>-2</td>\n",
       "      <td>1</td>\n",
       "    </tr>\n",
       "    <tr>\n",
       "      <th>4</th>\n",
       "      <td>22018</td>\n",
       "      <td>2544</td>\n",
       "      <td>0021801042</td>\n",
       "      <td>MAR 17, 2019</td>\n",
       "      <td>LAL @ NYK</td>\n",
       "      <td>L</td>\n",
       "      <td>35</td>\n",
       "      <td>11</td>\n",
       "      <td>26</td>\n",
       "      <td>0.423</td>\n",
       "      <td>...</td>\n",
       "      <td>4</td>\n",
       "      <td>6</td>\n",
       "      <td>8</td>\n",
       "      <td>0</td>\n",
       "      <td>1</td>\n",
       "      <td>2</td>\n",
       "      <td>2</td>\n",
       "      <td>33</td>\n",
       "      <td>9</td>\n",
       "      <td>2</td>\n",
       "    </tr>\n",
       "  </tbody>\n",
       "</table>\n",
       "<p>5 rows × 27 columns</p>\n",
       "</div>"
      ],
      "text/plain": [
       "  SEASON_ID  Player_ID     Game_ID     GAME_DATE      MATCHUP WL  MIN  FGM  \\\n",
       "0     22018       2544  0021801135  MAR 29, 2019  LAL vs. CHA  W   32   11   \n",
       "1     22018       2544  0021801116  MAR 26, 2019  LAL vs. WAS  W   34   11   \n",
       "2     22018       2544  0021801102  MAR 24, 2019  LAL vs. SAC  W   35    9   \n",
       "3     22018       2544  0021801086  MAR 22, 2019  LAL vs. BKN  L   37    8   \n",
       "4     22018       2544  0021801042  MAR 17, 2019    LAL @ NYK  L   35   11   \n",
       "\n",
       "   FGA  FG_PCT  ...  DREB  REB  AST  STL  BLK  TOV  PF  PTS  PLUS_MINUS  \\\n",
       "0   19   0.579  ...     3    3    9    0    0    6   1   27          14   \n",
       "1   20   0.550  ...     7    7   14    1    0    3   1   23           3   \n",
       "2   22   0.409  ...     9   11   11    2    1    4   1   29           5   \n",
       "3   25   0.320  ...     6    9   14    1    1    8   3   25          -2   \n",
       "4   26   0.423  ...     4    6    8    0    1    2   2   33           9   \n",
       "\n",
       "   VIDEO_AVAILABLE  \n",
       "0                1  \n",
       "1                1  \n",
       "2                1  \n",
       "3                1  \n",
       "4                2  \n",
       "\n",
       "[5 rows x 27 columns]"
      ]
     },
     "execution_count": 66,
     "metadata": {},
     "output_type": "execute_result"
    }
   ],
   "source": [
    "df_bron_games_2018 = gamelog_bron.get_data_frames()[0]\n",
    "df_bron_games_2018.head()"
   ]
  },
  {
   "cell_type": "code",
   "execution_count": null,
   "id": "b68ffaa4-8a6a-42bf-b045-26e708bd0572",
   "metadata": {},
   "outputs": [],
   "source": []
  }
 ],
 "metadata": {
  "kernelspec": {
   "display_name": "Python 3 (ipykernel)",
   "language": "python",
   "name": "python3"
  },
  "language_info": {
   "codemirror_mode": {
    "name": "ipython",
    "version": 3
   },
   "file_extension": ".py",
   "mimetype": "text/x-python",
   "name": "python",
   "nbconvert_exporter": "python",
   "pygments_lexer": "ipython3",
   "version": "3.11.5"
  }
 },
 "nbformat": 4,
 "nbformat_minor": 5
}
